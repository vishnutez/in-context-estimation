{
 "cells": [
  {
   "cell_type": "code",
   "execution_count": 2,
   "metadata": {},
   "outputs": [
    {
     "name": "stderr",
     "output_type": "stream",
     "text": [
      "  8%|▊         | 1/13 [00:00<00:03,  3.54it/s]"
     ]
    },
    {
     "name": "stdout",
     "output_type": "stream",
     "text": [
      "# examples = 0, CU_xh_MSE = 2.0000000000000004\n",
      "# examples = 0, CU_x_MSE = 2.0000000000000004, CA_x_MSE = 2.0000000000000004\n",
      "# examples = 0, CU_xh_Lin_MSE = 2.0000000000000004\n"
     ]
    },
    {
     "name": "stderr",
     "output_type": "stream",
     "text": [
      " 15%|█▌        | 2/13 [00:01<00:07,  1.39it/s]"
     ]
    },
    {
     "name": "stdout",
     "output_type": "stream",
     "text": [
      "# examples = 1, CU_xh_MSE = 0.8191867871240823\n",
      "# examples = 1, CU_x_MSE = 0.8469539301177077, CA_x_MSE = 0.8157080298996944\n",
      "# examples = 1, CU_xh_Lin_MSE = 0.8191867871240823\n"
     ]
    },
    {
     "name": "stderr",
     "output_type": "stream",
     "text": [
      " 23%|██▎       | 3/13 [00:05<00:22,  2.26s/it]"
     ]
    },
    {
     "name": "stdout",
     "output_type": "stream",
     "text": [
      "# examples = 2, CU_xh_MSE = 0.7834522373640557\n",
      "# examples = 2, CU_x_MSE = 0.8108496935624071, CA_x_MSE = 0.6421305276118131\n",
      "# examples = 2, CU_xh_Lin_MSE = 0.7748469475962155\n"
     ]
    },
    {
     "name": "stderr",
     "output_type": "stream",
     "text": [
      " 31%|███       | 4/13 [00:12<00:36,  4.09s/it]"
     ]
    },
    {
     "name": "stdout",
     "output_type": "stream",
     "text": [
      "# examples = 3, CU_xh_MSE = 0.7251790928814629\n",
      "# examples = 3, CU_x_MSE = 0.7366513257359361, CA_x_MSE = 0.5847157005711943\n",
      "# examples = 3, CU_xh_Lin_MSE = 0.745722034800448\n"
     ]
    },
    {
     "name": "stderr",
     "output_type": "stream",
     "text": [
      " 38%|███▊      | 5/13 [00:22<00:51,  6.38s/it]"
     ]
    },
    {
     "name": "stdout",
     "output_type": "stream",
     "text": [
      "# examples = 4, CU_xh_MSE = 0.6720166957395293\n",
      "# examples = 4, CU_x_MSE = 0.6757958479953672, CA_x_MSE = 0.5645892779459232\n",
      "# examples = 4, CU_xh_Lin_MSE = 0.7167781599850845\n"
     ]
    },
    {
     "name": "stderr",
     "output_type": "stream",
     "text": [
      " 46%|████▌     | 6/13 [00:36<01:02,  8.91s/it]"
     ]
    },
    {
     "name": "stdout",
     "output_type": "stream",
     "text": [
      "# examples = 5, CU_xh_MSE = 0.6465743365387715\n",
      "# examples = 5, CU_x_MSE = 0.6473868946329467, CA_x_MSE = 0.5624727373188014\n",
      "# examples = 5, CU_xh_Lin_MSE = 0.7262465180390469\n"
     ]
    },
    {
     "name": "stderr",
     "output_type": "stream",
     "text": [
      " 54%|█████▍    | 7/13 [00:54<01:11, 11.88s/it]"
     ]
    },
    {
     "name": "stdout",
     "output_type": "stream",
     "text": [
      "# examples = 6, CU_xh_MSE = 0.6277703197230432\n",
      "# examples = 6, CU_x_MSE = 0.6217924708409855, CA_x_MSE = 0.5588799446045432\n",
      "# examples = 6, CU_xh_Lin_MSE = 0.7190724873322142\n"
     ]
    },
    {
     "name": "stderr",
     "output_type": "stream",
     "text": [
      " 62%|██████▏   | 8/13 [01:20<01:21, 16.21s/it]"
     ]
    },
    {
     "name": "stdout",
     "output_type": "stream",
     "text": [
      "# examples = 7, CU_xh_MSE = 0.6190150425284222\n",
      "# examples = 7, CU_x_MSE = 0.6138192597075064, CA_x_MSE = 0.564168932187932\n",
      "# examples = 7, CU_xh_Lin_MSE = 0.7778348842319195\n"
     ]
    },
    {
     "name": "stderr",
     "output_type": "stream",
     "text": [
      " 69%|██████▉   | 9/13 [01:49<01:21, 20.36s/it]"
     ]
    },
    {
     "name": "stdout",
     "output_type": "stream",
     "text": [
      "# examples = 8, CU_xh_MSE = 0.5912824292118829\n",
      "# examples = 8, CU_x_MSE = 0.5819194347367449, CA_x_MSE = 0.5471540593393726\n",
      "# examples = 8, CU_xh_Lin_MSE = 0.7945244708951248\n"
     ]
    },
    {
     "name": "stderr",
     "output_type": "stream",
     "text": [
      " 77%|███████▋  | 10/13 [02:24<01:15, 25.03s/it]"
     ]
    },
    {
     "name": "stdout",
     "output_type": "stream",
     "text": [
      "# examples = 9, CU_xh_MSE = 0.5418140325989755\n",
      "# examples = 9, CU_x_MSE = 0.5359026648217461, CA_x_MSE = 0.5088202311006574\n",
      "# examples = 9, CU_xh_Lin_MSE = 0.7774464503298625\n"
     ]
    },
    {
     "name": "stderr",
     "output_type": "stream",
     "text": [
      " 85%|████████▍ | 11/13 [03:08<01:01, 30.74s/it]"
     ]
    },
    {
     "name": "stdout",
     "output_type": "stream",
     "text": [
      "# examples = 10, CU_xh_MSE = 0.5386841550495798\n",
      "# examples = 10, CU_x_MSE = 0.5307361304205009, CA_x_MSE = 0.5138327182640116\n",
      "# examples = 10, CU_xh_Lin_MSE = 0.739906180460084\n"
     ]
    },
    {
     "name": "stderr",
     "output_type": "stream",
     "text": [
      " 92%|█████████▏| 12/13 [03:58<00:36, 36.63s/it]"
     ]
    },
    {
     "name": "stdout",
     "output_type": "stream",
     "text": [
      "# examples = 11, CU_xh_MSE = 0.5139240701484107\n",
      "# examples = 11, CU_x_MSE = 0.5090659482506837, CA_x_MSE = 0.5005618478371134\n",
      "# examples = 11, CU_xh_Lin_MSE = 0.7093493275532723\n"
     ]
    },
    {
     "name": "stderr",
     "output_type": "stream",
     "text": [
      "100%|██████████| 13/13 [04:59<00:00, 23.04s/it]\n"
     ]
    },
    {
     "name": "stdout",
     "output_type": "stream",
     "text": [
      "# examples = 12, CU_xh_MSE = 0.527566028361015\n",
      "# examples = 12, CU_x_MSE = 0.5199016571387798, CA_x_MSE = 0.5111302648641864\n",
      "# examples = 12, CU_xh_Lin_MSE = 0.7169660010931153\n"
     ]
    },
    {
     "name": "stderr",
     "output_type": "stream",
     "text": [
      "  8%|▊         | 1/13 [00:00<00:03,  3.42it/s]"
     ]
    },
    {
     "name": "stdout",
     "output_type": "stream",
     "text": [
      "# examples = 0, CU_xh_MSE = 2.0000000000000004\n",
      "# examples = 0, CU_x_MSE = 2.0000000000000004, CA_x_MSE = 2.0000000000000004\n",
      "# examples = 0, CU_xh_Lin_MSE = 2.0000000000000004\n"
     ]
    },
    {
     "name": "stderr",
     "output_type": "stream",
     "text": [
      " 15%|█▌        | 2/13 [00:01<00:08,  1.34it/s]"
     ]
    },
    {
     "name": "stdout",
     "output_type": "stream",
     "text": [
      "# examples = 1, CU_xh_MSE = 1.0693699030728676\n",
      "# examples = 1, CU_x_MSE = 1.0506233608207518, CA_x_MSE = 1.0422990773798817\n",
      "# examples = 1, CU_xh_Lin_MSE = 1.0693699030728676\n"
     ]
    },
    {
     "name": "stderr",
     "output_type": "stream",
     "text": [
      " 23%|██▎       | 3/13 [00:05<00:24,  2.41s/it]"
     ]
    },
    {
     "name": "stdout",
     "output_type": "stream",
     "text": [
      "# examples = 2, CU_xh_MSE = 1.1077822707055145\n",
      "# examples = 2, CU_x_MSE = 1.092263335003659, CA_x_MSE = 1.0564962426690319\n",
      "# examples = 2, CU_xh_Lin_MSE = 1.0874243714785863\n"
     ]
    },
    {
     "name": "stderr",
     "output_type": "stream",
     "text": [
      " 31%|███       | 4/13 [00:12<00:38,  4.27s/it]"
     ]
    },
    {
     "name": "stdout",
     "output_type": "stream",
     "text": [
      "# examples = 3, CU_xh_MSE = 1.1334568617061231\n",
      "# examples = 3, CU_x_MSE = 1.0915458185250488, CA_x_MSE = 0.9794788442877194\n",
      "# examples = 3, CU_xh_Lin_MSE = 1.118169460460554\n"
     ]
    },
    {
     "name": "stderr",
     "output_type": "stream",
     "text": [
      " 38%|███▊      | 5/13 [00:22<00:50,  6.36s/it]"
     ]
    },
    {
     "name": "stdout",
     "output_type": "stream",
     "text": [
      "# examples = 4, CU_xh_MSE = 1.127803280537267\n",
      "# examples = 4, CU_x_MSE = 1.0746447908085854, CA_x_MSE = 0.9017127820608161\n",
      "# examples = 4, CU_xh_Lin_MSE = 1.2029077267250832\n"
     ]
    },
    {
     "name": "stderr",
     "output_type": "stream",
     "text": [
      " 46%|████▌     | 6/13 [00:36<01:02,  8.91s/it]"
     ]
    },
    {
     "name": "stdout",
     "output_type": "stream",
     "text": [
      "# examples = 5, CU_xh_MSE = 1.0741273852367317\n",
      "# examples = 5, CU_x_MSE = 1.0220992616018618, CA_x_MSE = 0.8923510780923212\n",
      "# examples = 5, CU_xh_Lin_MSE = 1.203800638739181\n"
     ]
    },
    {
     "name": "stderr",
     "output_type": "stream",
     "text": [
      " 54%|█████▍    | 7/13 [00:55<01:11, 11.95s/it]"
     ]
    },
    {
     "name": "stdout",
     "output_type": "stream",
     "text": [
      "# examples = 6, CU_xh_MSE = 1.0219207924966751\n",
      "# examples = 6, CU_x_MSE = 0.9801127525286017, CA_x_MSE = 0.8869152823953979\n",
      "# examples = 6, CU_xh_Lin_MSE = 1.2074394119906684\n"
     ]
    },
    {
     "name": "stderr",
     "output_type": "stream",
     "text": [
      " 62%|██████▏   | 8/13 [01:19<01:19, 15.84s/it]"
     ]
    },
    {
     "name": "stdout",
     "output_type": "stream",
     "text": [
      "# examples = 7, CU_xh_MSE = 0.9757956205461232\n",
      "# examples = 7, CU_x_MSE = 0.9361490178468362, CA_x_MSE = 0.8669639498688202\n",
      "# examples = 7, CU_xh_Lin_MSE = 1.1705455608949322\n"
     ]
    },
    {
     "name": "stderr",
     "output_type": "stream",
     "text": [
      " 69%|██████▉   | 9/13 [01:48<01:20, 20.17s/it]"
     ]
    },
    {
     "name": "stdout",
     "output_type": "stream",
     "text": [
      "# examples = 8, CU_xh_MSE = 0.9395387787817091\n",
      "# examples = 8, CU_x_MSE = 0.9040615065056703, CA_x_MSE = 0.8541259380837488\n",
      "# examples = 8, CU_xh_Lin_MSE = 1.1079033088199135\n"
     ]
    },
    {
     "name": "stderr",
     "output_type": "stream",
     "text": [
      " 77%|███████▋  | 10/13 [02:26<01:17, 25.71s/it]"
     ]
    },
    {
     "name": "stdout",
     "output_type": "stream",
     "text": [
      "# examples = 9, CU_xh_MSE = 0.9104992875600945\n",
      "# examples = 9, CU_x_MSE = 0.8786820436635692, CA_x_MSE = 0.8402199134383218\n",
      "# examples = 9, CU_xh_Lin_MSE = 1.118596587619394\n"
     ]
    },
    {
     "name": "stderr",
     "output_type": "stream",
     "text": [
      " 85%|████████▍ | 11/13 [03:11<01:03, 31.53s/it]"
     ]
    },
    {
     "name": "stdout",
     "output_type": "stream",
     "text": [
      "# examples = 10, CU_xh_MSE = 0.8827046684189885\n",
      "# examples = 10, CU_x_MSE = 0.8547805511850173, CA_x_MSE = 0.82502687299566\n",
      "# examples = 10, CU_xh_Lin_MSE = 1.0854605967533542\n"
     ]
    },
    {
     "name": "stderr",
     "output_type": "stream",
     "text": [
      " 92%|█████████▏| 12/13 [04:04<00:38, 38.09s/it]"
     ]
    },
    {
     "name": "stdout",
     "output_type": "stream",
     "text": [
      "# examples = 11, CU_xh_MSE = 0.8647760722128709\n",
      "# examples = 11, CU_x_MSE = 0.8397337899535295, CA_x_MSE = 0.8159134494274227\n",
      "# examples = 11, CU_xh_Lin_MSE = 1.0703011846906518\n"
     ]
    },
    {
     "name": "stderr",
     "output_type": "stream",
     "text": [
      "100%|██████████| 13/13 [05:03<00:00, 23.35s/it]\n"
     ]
    },
    {
     "name": "stdout",
     "output_type": "stream",
     "text": [
      "# examples = 12, CU_xh_MSE = 0.8680974582025428\n",
      "# examples = 12, CU_x_MSE = 0.8413525565974622, CA_x_MSE = 0.8248408456829959\n",
      "# examples = 12, CU_xh_Lin_MSE = 1.1011500758207384\n"
     ]
    },
    {
     "name": "stderr",
     "output_type": "stream",
     "text": [
      "  8%|▊         | 1/13 [00:00<00:03,  3.47it/s]"
     ]
    },
    {
     "name": "stdout",
     "output_type": "stream",
     "text": [
      "# examples = 0, CU_xh_MSE = 2.0000000000000004\n",
      "# examples = 0, CU_x_MSE = 2.0000000000000004, CA_x_MSE = 2.0000000000000004\n",
      "# examples = 0, CU_xh_Lin_MSE = 2.0000000000000004\n"
     ]
    },
    {
     "name": "stderr",
     "output_type": "stream",
     "text": [
      " 15%|█▌        | 2/13 [00:01<00:07,  1.42it/s]"
     ]
    },
    {
     "name": "stdout",
     "output_type": "stream",
     "text": [
      "# examples = 1, CU_xh_MSE = 1.9678912543870923\n",
      "# examples = 1, CU_x_MSE = 1.762446842999867, CA_x_MSE = 1.6858523054031052\n",
      "# examples = 1, CU_xh_Lin_MSE = 1.9678912543870923\n"
     ]
    },
    {
     "name": "stderr",
     "output_type": "stream",
     "text": [
      " 23%|██▎       | 3/13 [00:05<00:22,  2.23s/it]"
     ]
    },
    {
     "name": "stdout",
     "output_type": "stream",
     "text": [
      "# examples = 2, CU_xh_MSE = 1.906704359140858\n",
      "# examples = 2, CU_x_MSE = 1.6621824400866219, CA_x_MSE = 1.3916088559451252\n",
      "# examples = 2, CU_xh_Lin_MSE = 2.0145896979499227\n"
     ]
    },
    {
     "name": "stderr",
     "output_type": "stream",
     "text": [
      " 31%|███       | 4/13 [00:12<00:36,  4.04s/it]"
     ]
    },
    {
     "name": "stdout",
     "output_type": "stream",
     "text": [
      "# examples = 3, CU_xh_MSE = 1.7643665435407456\n",
      "# examples = 3, CU_x_MSE = 1.589904586357698, CA_x_MSE = 1.4027585048139601\n",
      "# examples = 3, CU_xh_Lin_MSE = 2.035600802006218\n"
     ]
    },
    {
     "name": "stderr",
     "output_type": "stream",
     "text": [
      " 38%|███▊      | 5/13 [00:21<00:48,  6.08s/it]"
     ]
    },
    {
     "name": "stdout",
     "output_type": "stream",
     "text": [
      "# examples = 4, CU_xh_MSE = 1.6148950970381768\n",
      "# examples = 4, CU_x_MSE = 1.4750941200496295, CA_x_MSE = 1.3325988978739824\n",
      "# examples = 4, CU_xh_Lin_MSE = 1.9025085184685784\n"
     ]
    },
    {
     "name": "stderr",
     "output_type": "stream",
     "text": [
      " 46%|████▌     | 6/13 [00:34<00:58,  8.40s/it]"
     ]
    },
    {
     "name": "stdout",
     "output_type": "stream",
     "text": [
      "# examples = 5, CU_xh_MSE = 1.5323568034107398\n",
      "# examples = 5, CU_x_MSE = 1.423009902991037, CA_x_MSE = 1.3191279537064828\n",
      "# examples = 5, CU_xh_Lin_MSE = 1.8925649194927021\n"
     ]
    },
    {
     "name": "stderr",
     "output_type": "stream",
     "text": [
      " 54%|█████▍    | 7/13 [00:51<01:07, 11.24s/it]"
     ]
    },
    {
     "name": "stdout",
     "output_type": "stream",
     "text": [
      "# examples = 6, CU_xh_MSE = 1.4405132761103518\n",
      "# examples = 6, CU_x_MSE = 1.352143367044671, CA_x_MSE = 1.2771125261002947\n",
      "# examples = 6, CU_xh_Lin_MSE = 1.8105753000509235\n"
     ]
    },
    {
     "name": "stderr",
     "output_type": "stream",
     "text": [
      " 62%|██████▏   | 8/13 [01:14<01:14, 14.94s/it]"
     ]
    },
    {
     "name": "stdout",
     "output_type": "stream",
     "text": [
      "# examples = 7, CU_xh_MSE = 1.4024809390508202\n",
      "# examples = 7, CU_x_MSE = 1.319670150030695, CA_x_MSE = 1.2585533823653103\n",
      "# examples = 7, CU_xh_Lin_MSE = 1.8063191348261258\n"
     ]
    },
    {
     "name": "stderr",
     "output_type": "stream",
     "text": [
      " 69%|██████▉   | 9/13 [01:42<01:16, 19.05s/it]"
     ]
    },
    {
     "name": "stdout",
     "output_type": "stream",
     "text": [
      "# examples = 8, CU_xh_MSE = 1.3767199836131487\n",
      "# examples = 8, CU_x_MSE = 1.3008234725437937, CA_x_MSE = 1.258253209814856\n",
      "# examples = 8, CU_xh_Lin_MSE = 1.7494849265446433\n"
     ]
    },
    {
     "name": "stderr",
     "output_type": "stream",
     "text": [
      " 77%|███████▋  | 10/13 [02:15<01:09, 23.31s/it]"
     ]
    },
    {
     "name": "stdout",
     "output_type": "stream",
     "text": [
      "# examples = 9, CU_xh_MSE = 1.3486464455015326\n",
      "# examples = 9, CU_x_MSE = 1.280891595305356, CA_x_MSE = 1.2447964136443215\n",
      "# examples = 9, CU_xh_Lin_MSE = 1.7777896158991213\n"
     ]
    },
    {
     "name": "stderr",
     "output_type": "stream",
     "text": [
      " 85%|████████▍ | 11/13 [02:57<00:57, 28.90s/it]"
     ]
    },
    {
     "name": "stdout",
     "output_type": "stream",
     "text": [
      "# examples = 10, CU_xh_MSE = 1.3172026389013705\n",
      "# examples = 10, CU_x_MSE = 1.2521003712550842, CA_x_MSE = 1.2346922344483697\n",
      "# examples = 10, CU_xh_Lin_MSE = 1.7447846611151467\n"
     ]
    },
    {
     "name": "stderr",
     "output_type": "stream",
     "text": [
      " 92%|█████████▏| 12/13 [03:47<00:35, 35.54s/it]"
     ]
    },
    {
     "name": "stdout",
     "output_type": "stream",
     "text": [
      "# examples = 11, CU_xh_MSE = 1.2983262790276249\n",
      "# examples = 11, CU_x_MSE = 1.237356605353168, CA_x_MSE = 1.223503178032137\n",
      "# examples = 11, CU_xh_Lin_MSE = 1.786303471390161\n"
     ]
    },
    {
     "name": "stderr",
     "output_type": "stream",
     "text": [
      "100%|██████████| 13/13 [04:45<00:00, 21.96s/it]"
     ]
    },
    {
     "name": "stdout",
     "output_type": "stream",
     "text": [
      "# examples = 12, CU_xh_MSE = 1.30557106186771\n",
      "# examples = 12, CU_x_MSE = 1.2435950810324774, CA_x_MSE = 1.2336442384408524\n",
      "# examples = 12, CU_xh_Lin_MSE = 1.8111438695628437\n"
     ]
    },
    {
     "name": "stderr",
     "output_type": "stream",
     "text": [
      "\n"
     ]
    },
    {
     "data": {
      "image/png": "[encoded data removed]",
      "text/plain": [
       "<Figure size 1800x600 with 3 Axes>"
      ]
     },
     "metadata": {},
     "output_type": "display_data"
    }
   ],
   "source": [
    "import numpy as np\n",
    "from numpy.linalg import norm\n",
    "import scipy as sp\n",
    "from scipy.linalg import toeplitz\n",
    "import matplotlib.pyplot as plt\n",
    "from tqdm import tqdm\n",
    "import pandas as pd\n",
    "\n",
    "\n",
    "\n",
    "# def get_transmission_matrix(YK, d):\n",
    "\n",
    "#     K = np.size(YK)\n",
    "\n",
    "#     YIK = np.real(YK)\n",
    "#     YQK = np.imag(YK)\n",
    "\n",
    "#     Y_mat = np.zeros((2*d*K, 2*d))\n",
    "#     Id = np.eye(d)\n",
    "\n",
    "#     for i in range(K):\n",
    "#         Y_mat[2*i*d:(2*i+1)*d, :d] = YIK[i] * Id\n",
    "#         Y_mat[2*i*d:(2*i+1)*d, d:2*d] = -YQK[i] * Id\n",
    "#         Y_mat[(2*i+1)*d:(2*i+2)*d, :d] = YQK[i] * Id\n",
    "#         Y_mat[(2*i+1)*d:(2*i+2)*d, d:2*d] = YIK[i] * Id\n",
    "\n",
    "#     return Y_mat\n",
    "\n",
    "\n",
    "# def get_transmission_matrix_time_varying(YK, d):\n",
    "\n",
    "#     K = np.size(YK)\n",
    "\n",
    "#     YIK = np.real(YK)\n",
    "#     YQK = np.imag(YK)\n",
    "\n",
    "#     Y_mat = np.zeros((2*d*K, 2*d*K))\n",
    "#     Id = np.eye(d)\n",
    "\n",
    "#     for i in range(K):\n",
    "#         Y_mat[2*i*d:(2*i+1)*d, 2*i*d:(2*i+1)*d] = YIK[i] * Id\n",
    "#         Y_mat[2*i*d:(2*i+1)*d, (2*i+1)*d:(2*i+2)*d] = -YQK[i] * Id\n",
    "#         Y_mat[(2*i+1)*d:(2*i+2)*d, 2*i*d:(2*i+1)*d] = YQK[i] * Id\n",
    "#         Y_mat[(2*i+1)*d:(2*i+2)*d, (2*i+1)*d:(2*i+2)*d] = YIK[i] * Id\n",
    "\n",
    "#     return Y_mat\n",
    "\n",
    "# def gen_ch_cov(v, nT, fc=2.6e9, Del_T=1e-3):\n",
    "#     c = sp.constants.c\n",
    "#     max_doppler_shift = fc * v / c\n",
    "#     kt = 2 * np.pi * max_doppler_shift * Del_T # some constant related to spacing of OFDM symbols\n",
    "#     Rt_col = kt * np.arange(nT)\n",
    "#     Rt_row = Rt_col\n",
    "#     R_T = sp.special.j0(toeplitz(Rt_col, Rt_row))\n",
    "#     # plt.plot(R_T[0, :])\n",
    "#     # plt.show()\n",
    "#     Lambda, U = np.linalg.eig(R_T)\n",
    "#     U_real = np.real(U)  # just a safety condition\n",
    "#     max_imag_val = np.max(np.abs(np.imag(U)))\n",
    "#     # print(\"Max imag value = \", max_imag_val)\n",
    "#     # assert (max_imag_val < 0.1), \"Imag eig vectors\"\n",
    "#     Lambda_real = np.abs(Lambda)\n",
    "#     # Lam_mat = np.diag(Lambda)\n",
    "#     return R_T, Lambda_real, U_real\n",
    "\n",
    "\n",
    "# def gen_channel(Lambda,U,nT):\n",
    "#     \"\"\"\n",
    "#     - generates the channel as per the correlation structure given by Lambda, U\n",
    "#     \"\"\"\n",
    "#     Re_z = np.random.normal(0,np.sqrt(0.5),nT)\n",
    "#     Im_z = np.random.normal(0,np.sqrt(0.5),nT)\n",
    "#     z = Re_z +1j*Im_z\n",
    "#     h = U@ np.diag(Lambda**0.5) @ z\n",
    "#     # returning z instead of h iid channel\n",
    "#     return h\n",
    "\n",
    "\n",
    "def estimate_channel(Y_mat, X_vec, sigma2, ch_cov, h_mean):\n",
    "    size = np.size(Y_mat, 0)\n",
    "    h_hat = h_mean + ch_cov@Y_mat.T @ (np.linalg.inv(Y_mat@ch_cov@Y_mat.T+sigma2*np.eye(size))) @ X_vec\n",
    "    return h_hat\n",
    "\n",
    "# def estimate_channel_MMSE(XK, sigma2, d, RT_all):\n",
    "#     k = np.size(XK, 1)\n",
    "#     Y = XK.T # K x d\n",
    "#     # print(\"Y = \", Y)\n",
    "#     YI = np.real(Y)\n",
    "#     YQ = np.imag(Y)\n",
    "#     YR = np.hstack((YI, YQ))\n",
    "#     # print(\"Y = \", YR)\n",
    "#     YH = np.conjugate(Y.T)\n",
    "#     C_hat =  (Y@ YH)/ d # K x K  # empirical covariance for the received symbols Y\n",
    "#     # print(\"Shape of C_hat = \", np.shape(C_hat))\n",
    "#     # print(\"Current context length = \", k)\n",
    "#     n_contexts = 3\n",
    "#     weights = np.zeros(n_contexts, dtype=\"complex\")\n",
    "#     MMSE_filter_context = np.zeros_like(RT_all[:, :k, :k])\n",
    "#     for i in range(n_contexts):\n",
    "#         R_current = RT_all[i, :k, :k]\n",
    "#         MMSE_filter_context[i,:,:] = R_current @ np.linalg.inv(R_current + 2*sigma2*np.eye(k))\n",
    "#         bias_context = d * np.log(np.linalg.det(np.eye(k)-MMSE_filter_context[i,:,:]))\n",
    "#         product_cov = MMSE_filter_context[i,:,:] @ C_hat\n",
    "#         weights[i] = np.exp(np.trace(product_cov) + bias_context)\n",
    "#     filter = np.average(MMSE_filter_context, weights=weights, axis=0)\n",
    "#     channel = filter @ Y\n",
    "#     hIk = np.real(channel[-1, :]) \n",
    "#     hQk = np.imag(channel[-1, :]) \n",
    "#     hk_hat = np.concatenate((hIk, hQk))\n",
    "#     return hk_hat\n",
    "\n",
    "\n",
    "# def estimate_channel_MMSE(XK, sigma2, d, RT_all):\n",
    "#     k = np.size(XK, 1)\n",
    "#     Y = XK.T # K x d\n",
    "#     # print(\"Y = \", Y)\n",
    "#     YI = np.real(Y)\n",
    "#     YQ = np.imag(Y)\n",
    "#     YR = np.hstack((YI, YQ))  # K x 2d\n",
    "#     # # print(\"Y = \", YR)\n",
    "#     # YH = np.conjugate(Y.T)\n",
    "#     C_hat =  (YR @ YR.T)/ (sigma2) # K x K  # empirical covariance for the received symbols Y\n",
    "#     # print(\"Shape of C_hat = \", np.shape(C_hat))\n",
    "#     # print(\"Current context length = \", k)\n",
    "#     n_contexts = 3\n",
    "#     weights = np.zeros(n_contexts)\n",
    "#     MMSE_filter_context = np.zeros_like(RT_all[:, :k, :k])\n",
    "#     for i in range(n_contexts):\n",
    "#         R_current = 0.5*RT_all[i, :k, :k]\n",
    "#         MMSE_filter_context[i,:,:] = R_current @ np.linalg.inv(R_current + sigma2*np.eye(k))\n",
    "#         bias_context = 2*d * np.log(np.linalg.det(np.eye(k)-MMSE_filter_context[i,:,:]))\n",
    "#         product_cov = MMSE_filter_context[i,:,:] @ C_hat\n",
    "#         weights[i] = np.exp(np.trace(product_cov) + bias_context)\n",
    "#     filter = np.average(MMSE_filter_context, weights=weights, axis=0)\n",
    "#     channel = filter @ Y\n",
    "#     hIk = np.real(channel[-1, :]) \n",
    "#     hQk = np.imag(channel[-1, :]) \n",
    "#     hk_hat = np.concatenate((hIk, hQk))\n",
    "#     return hk_hat\n",
    "\n",
    "\n",
    "def estimate_sym_MMSE(YK, XK, yk, sigma2, d, RT_all):\n",
    "\n",
    "    QPSK = np.array([[1, 1], [1, -1], [-1, 1], [-1, -1]]).T  # 2 x 4  columns represent the transmitted symbols\n",
    "\n",
    "    n_symbs = np.size(QPSK, 1)\n",
    "    n_contexts = np.size(RT_all, 0)\n",
    "    k = np.size(XK)\n",
    "    if k==0:\n",
    "        x_hat = np.zeros(2)\n",
    "        # print(\"k=0!\")\n",
    "    else:\n",
    "        I2d = np.eye(2*d)\n",
    "        yk = np.atleast_2d(yk).T\n",
    "        # print(\"YK = \", np.shape(YK))\n",
    "        # print(\"yk = \", np.shape(yk))\n",
    "        Y_full = np.hstack((YK, yk))\n",
    "        # print(Y_full)\n",
    "        Y_vec = np.vstack((np.real(Y_full), np.imag(Y_full))).flatten(order=\"F\")\n",
    "        posterior_dist = np.zeros((n_symbs, n_contexts))\n",
    "        for s in range(n_symbs):\n",
    "            expected_sym = np.array([QPSK[0,s] + 1j * QPSK[1,s]])\n",
    "            # print(expected_sym)\n",
    "            # print(XK)\n",
    "            X_full = np.concatenate((XK, expected_sym))\n",
    "            X_mat = get_transmission_matrix_time_varying(X_full, d)\n",
    "            for i in range(n_contexts):\n",
    "                R_H = np.kron(RT_all[i, :k+1, :k+1], I2d)\n",
    "                R_X = X_mat@R_H@X_mat.T+sigma2*np.eye(2*d*(k+1))  # cov of X\n",
    "                R_X_inv = np.linalg.inv(R_X)\n",
    "                posterior_dist[s, i] = 1/n_symbs * 1/np.sqrt(np.abs(np.linalg.det(R_X))) * np.exp(-1/2 * np.trace( R_X_inv @ np.outer(Y_vec, Y_vec)))\n",
    "            \n",
    "        filter = np.average(posterior_dist, axis=1)\n",
    "        x_hat = np.average(QPSK, axis=1, weights=filter)\n",
    "    return x_hat\n",
    "\n",
    "\n",
    "\n",
    "def estimate_channel_MMSE(XK, YK, sigma2, d, RT_all):\n",
    "\n",
    "    n_contexts = np.size(RT_all, 0)\n",
    "    k = np.size(YK)\n",
    "    I2d = np.eye(2*d)\n",
    "    Y_mat = get_transmission_matrix_time_varying(YK, d)\n",
    "    X_vec = np.vstack((np.real(XK), np.imag(XK))).flatten(order=\"F\")\n",
    "\n",
    "    in_context_filter = np.zeros((n_contexts, 2*d, 2*d*k))\n",
    "    posterior_dist = np.zeros(n_contexts)\n",
    "    for i in range(n_contexts):\n",
    "        R_H = np.kron(RT_all[i, :k, :k], I2d)\n",
    "        R_kH = np.kron(RT_all[i, k, :k], I2d)\n",
    "        R_X = Y_mat@R_H@Y_mat.T+sigma2*np.eye(2*d*k)  # cov of X\n",
    "        R_kX = R_kH @ Y_mat.T\n",
    "        RX_inv = np.linalg.inv(R_X)\n",
    "        in_context_filter[i,:,:] = R_kX @ np.linalg.inv(R_X)\n",
    "        posterior_dist[i] = np.exp(-1/2 * np.trace( RX_inv @ np.outer(X_vec, X_vec))) / np.sqrt(np.abs(np.linalg.det(R_X)))\n",
    "    \n",
    "    filter = np.average(in_context_filter, axis=0, weights=posterior_dist)\n",
    "    h_hat = filter @ X_vec\n",
    "    return h_hat\n",
    "\n",
    "def estimate_time_varying_channel(XK, YK, sigma2, d, R_T):\n",
    "\n",
    "    k = np.size(YK)\n",
    "    I2d = np.eye(2*d)\n",
    "\n",
    "    # for i in range(k):\n",
    "    #     for j in range(k):\n",
    "    #         R_H[2*i*d:(2*i+1)*d, 2*j*d:(2*j+1)*d] = R_II[i,j] * Id\n",
    "    #         R_H[2*i*d:(2*i+1)*d, (2*j+1)*d:(2*j+2)*d] = R_IQ[i,j] * Id\n",
    "    #         R_H[(2*i+1)*d:(2*i+2)*d, 2*j*d:(2*j+1)*d] = R_IQ[i,j] * Id\n",
    "    #         R_H[(2*i+1)*d:(2*i+2)*d, (2*j+1)*d:(2*j+2)*d] = R_II[i,j] * Id\n",
    "\n",
    "    # for j in range(k):\n",
    "    #     R_kH[:d, 2*j*d:(2*j+1)*d] = R_II[k+1, j] * Id\n",
    "    #     R_kH[d:2*d, (2*j+1)*d:(2*j+2)*d] = R_IQ[k+1,j] * Id\n",
    "    #     R_kH[:d, 2*j*d:(2*j+1)*d] = R_IQ[k+1,j] * Id\n",
    "    #     R_kH[d:2*d, (2*j+1)*d:(2*j+2)*d] = R_II[k+1,j] * Id\n",
    "\n",
    "\n",
    "    # for i in range(k):\n",
    "    #     for j in range(k):\n",
    "    #         R_H[i*2*d:(i+1)*2*d, j*2*d:(j+1)*2*d] = R_T[i,j] * I2d\n",
    "            \n",
    "\n",
    "    # for j in range(k):\n",
    "    #     R_kH[:, j*2*d:(j+1)*2*d] = R_T[k+1, j] *I2d\n",
    "        \n",
    "\n",
    "    R_H = np.kron(R_T[:k, :k], I2d)\n",
    "    R_kH = np.kron(R_T[k, :k], I2d)\n",
    "\n",
    "    # print(R_H_kron)\n",
    "\n",
    "    # assert (R_kH_kron == R_kH).all(), \"Kron is wrong\"\n",
    "\n",
    "    # print(np.shape(R_H_kron))\n",
    "\n",
    "    Y_mat = get_transmission_matrix_time_varying(YK, d)\n",
    "\n",
    "    # print(\"YK = \\n\", YK)\n",
    "    # print(\"Y_mat = \\n\", Y_mat)\n",
    "\n",
    "\n",
    "    X_vec = np.vstack((np.real(XK), np.imag(XK))).flatten(order=\"F\")\n",
    "\n",
    "    R_X = Y_mat@R_H@Y_mat.T+sigma2*np.eye(2*d*k)\n",
    "\n",
    "    R_kX = R_kH @ Y_mat.T\n",
    "\n",
    "    h_hat = R_kX @ np.linalg.inv(R_X) @ X_vec\n",
    "\n",
    "    return h_hat\n",
    "\n",
    "\n",
    "def estimate_sym_from_channel(h_hat, xk, sigma2):\n",
    "    QPSK = np.array([[1, 1], [1, -1], [-1, 1], [-1, -1]]).T  # 2 x 4\n",
    "    xIk = np.real(xk)  # d\n",
    "    xQk = np.imag(xk)  # d\n",
    "    d = np.size(xk)\n",
    "    hI_hat = h_hat[:d]\n",
    "    hQ_hat = h_hat[d:]\n",
    "    q = np.zeros(4)\n",
    "    for i in range(4):\n",
    "        a = QPSK[:, i]\n",
    "        dist2 = np.linalg.norm(xIk-hI_hat*a[0]+hQ_hat*a[1])**2 + np.linalg.norm(xQk-hQ_hat*a[0]-hI_hat*a[1])**2\n",
    "        q[i] = np.exp(-dist2/2/sigma2)\n",
    "    q = q / np.sum(q)\n",
    "    y_pred = QPSK@q\n",
    "    return y_pred\n",
    "\n",
    "\n",
    "def gen_pilot_data(v, SNR_DB, d, K):\n",
    "    SNR = 10**(SNR_DB/10)\n",
    "    sigma_noise = np.sqrt(1/SNR)\n",
    "    R_T, Lambda, U = gen_ch_cov(v, nT=K)\n",
    "\n",
    "    x = np.zeros((d, K), dtype=\"complex\")\n",
    "    H = np.zeros((d, K), dtype=\"complex\")\n",
    "\n",
    "    for i in range(d):\n",
    "    \n",
    "        h = gen_channel(U=U, Lambda=Lambda, nT=K)\n",
    "        hI = np.real(h)\n",
    "        hQ = np.imag(h)\n",
    "        \n",
    "        # h = hI + 1j * hQ # K vec\n",
    "        # plt.plot(hI)\n",
    "        # plt.plot(hQ)\n",
    "        # plt.show()\n",
    "        zI = sigma_noise * np.random.randn(K)\n",
    "        zQ = sigma_noise * np.random.randn(K)\n",
    "        z = zI + 1j * zQ # K vec\n",
    "        H[i, :] = h\n",
    "        x[i, :] = h + z\n",
    "\n",
    "    RI = 0.5*R_T\n",
    "    \n",
    "    return x, RI, H\n",
    "\n",
    "\n",
    "def gen_pilots_for_channel_estimation(Lambda, SNR_DB, d, K):\n",
    "\n",
    "    SNR = 10**(SNR_DB/10)\n",
    "    sigma_noise = np.sqrt(1/SNR)\n",
    "    R_T, Lambda, U = gen_ch_cov(v, nT=K)\n",
    "    x = np.zeros((d, K), dtype=\"complex\")\n",
    "    H = np.zeros((d, K), dtype=\"complex\")\n",
    "    yI = 2*(np.random.rand() < 0.5) - 1\n",
    "    yQ = 2*(np.random.rand() < 0.5) - 1\n",
    "    y = yI + 1j*yQ\n",
    "    for i in range(d):\n",
    "        h = gen_channel(U=U, Lambda=Lambda, nT=K)\n",
    "        hI = np.real(h)\n",
    "        hQ = np.imag(h)\n",
    "        zI = sigma_noise * np.random.randn(K)\n",
    "        zQ = sigma_noise * np.random.randn(K)\n",
    "        z = zI + 1j * zQ # K vec\n",
    "        H[i, :] = h\n",
    "        x[i, :] = h + z\n",
    "    RI = 0.5*R_T\n",
    "    return x, y, RI, H\n",
    "\n",
    "\n",
    "def gen_data_time_varying(v, SNR_DB, d, K):\n",
    "\n",
    "    SNR = 10**(SNR_DB/10)\n",
    "    sigma_noise = np.sqrt(1/SNR)\n",
    "\n",
    "    yI = 2 * (np.random.rand(K) < 0.5) - 1\n",
    "    yQ = 2 * (np.random.rand(K) < 0.5) - 1\n",
    "    y = yI + 1j * yQ # K vec\n",
    "    R_T, Lambda, U = gen_ch_cov(v, nT=K)\n",
    "    x = np.zeros((d, K), dtype=\"complex\")\n",
    "    H = np.zeros((d, K), dtype=\"complex\")\n",
    "    for i in range(d):\n",
    "        h = gen_channel(U=U, Lambda=Lambda, nT=K)\n",
    "        hI = np.real(h)\n",
    "        hQ = np.imag(h)\n",
    "        zI = sigma_noise * np.random.randn(K)\n",
    "        zQ = sigma_noise * np.random.randn(K)\n",
    "        z = zI + 1j * zQ # K vec\n",
    "        H[i, :] = h\n",
    "        x[i, :] = h*y + z\n",
    "    RI = 0.5*R_T\n",
    "    return x, y, RI, H\n",
    "\n",
    "def gen_ch_cov(v, nT, fc=2.6e9, Del_T=1e-3):\n",
    "    c = sp.constants.c\n",
    "    max_doppler_shift = fc * v / c\n",
    "    kt = 2 * np.pi * max_doppler_shift * Del_T # some constant related to spacing of OFDM symbols\n",
    "    Rt_col = kt * np.arange(nT)\n",
    "    Rt_row = Rt_col\n",
    "    R_T = sp.special.j0(toeplitz(Rt_col, Rt_row))\n",
    "    # plt.plot(R_T[0, :])\n",
    "    # plt.show()\n",
    "    Lambda, U = np.linalg.eig(R_T)\n",
    "    U_real = np.real(U)  # just a safety condition\n",
    "    max_imag_val = np.max(np.abs(np.imag(U)))\n",
    "    # print(\"Max imag value = \", max_imag_val)\n",
    "    # assert (max_imag_val < 0.1), \"Imag eig vectors\"\n",
    "    Lambda_real = np.abs(Lambda)\n",
    "    # Lam_mat = np.diag(Lambda)\n",
    "    return R_T, Lambda_real, U_real\n",
    "\n",
    "\n",
    "def gen_channel(Lambda,U,nT):\n",
    "    \"\"\"\n",
    "    - generates the channel as per the correlation structure given by Lambda, U\n",
    "    \"\"\"\n",
    "    Re_z = np.random.normal(0,np.sqrt(0.5),nT)\n",
    "    Im_z = np.random.normal(0,np.sqrt(0.5),nT)\n",
    "    z = Re_z +1j*Im_z\n",
    "    h = U@ np.diag(Lambda**0.5) @ z\n",
    "    # returning z instead of h iid channel\n",
    "    return h\n",
    "\n",
    "\n",
    "def get_hidden_process_cov(latent=5, max_cnxt_ln=15, fc=2.6e9, Ts=1e-3):\n",
    "\n",
    "    \"\"\"\n",
    "    returns --\n",
    "        Rh: (max_cnxt_ln, max_cnxt_ln)\n",
    "        Lam: max_cnxt_ln\n",
    "    \"\"\"\n",
    "\n",
    "    c = sp.constants.c\n",
    "    max_doppler_shift = fc * latent / c\n",
    "    Rh_col = 2 * np.pi * max_doppler_shift * Ts * np.arange(max_cnxt_ln)\n",
    "    Rh_row = Rh_col\n",
    "    Rh = sp.special.j0(toeplitz(Rh_col, Rh_row))\n",
    "    Lambda_complex, U_complex = np.linalg.eig(Rh) # very close to real matrices\n",
    "    U = np.real(U_complex) # to be safe from num errs\n",
    "    Lam = np.abs(Lambda_complex) # to be safe from num errs\n",
    "    return Rh, Lam, U.T  # returning U.T\n",
    "\n",
    "\n",
    "def get_hidden_process(Lam, UT, batch_size, d, channel_power):\n",
    "\n",
    "    channel_amp = np.sqrt(channel_power)\n",
    "    cnxt_ln = len(Lam)\n",
    "    gI, gQ = channel_amp*np.random.randn(batch_size, d, cnxt_ln), channel_amp*np.random.randn(batch_size, d, cnxt_ln)\n",
    "    g = gI + 1j* gQ\n",
    "    h = g @ np.diag(Lam**0.5) @ UT # (batch_size, d, cnxt_ln)\n",
    "    return h.transpose((0,2,1)) # (batch_size, cnxt_ln, d)\n",
    "\n",
    "def gen_time_variant_process(X,\n",
    "                            latent=5,\n",
    "                            max_cnxt_ln=10,\n",
    "                            batch_size=100,\n",
    "                            d=4,\n",
    "                            SNR_dB=-5,\n",
    "                            channel_power=1/2):\n",
    "    \n",
    "    sigma2 = 10**(-SNR_dB/10)\n",
    "    sigma = np.sqrt(sigma2)\n",
    "\n",
    "    zI, zQ = sigma*np.random.randn(batch_size, max_cnxt_ln, d), sigma*np.random.randn(batch_size, max_cnxt_ln, d)  # generate noise samples\n",
    "    z = zI + 1j*zQ    \n",
    "\n",
    "    x_vec = X[np.random.choice(4, size=(batch_size, max_cnxt_ln), replace=True)]  # generate input symbs\n",
    "    xI, xQ = x_vec[:,:,0], x_vec[:,:,1]\n",
    "    x = (xI + 1j * xQ).reshape(batch_size, max_cnxt_ln, 1)\n",
    "\n",
    "    Rh, Lam, U = get_hidden_process_cov(latent=latent, max_cnxt_ln=max_cnxt_ln, fc=2.6e9, Ts=1e-3)\n",
    "\n",
    "    h = get_hidden_process(Lam, U, batch_size, d, channel_power) # (batch_size, max_cnxt_ln, d)\n",
    "\n",
    "    y = h*x + z\n",
    "    return x, y, h   \n",
    "    \n",
    "\n",
    "def complex_to_real_mat(complex_3d):\n",
    "    \"\"\"\n",
    "    complex_3d: complex valued tensor of shape (batchsize, cnxt_ln, d)\n",
    "    \"\"\"\n",
    "    batch_size, n_symbs, _ = complex_3d.shape\n",
    "    vec_I = np.expand_dims(np.real(complex_3d), axis=2) # batchsize, n, 1, d\n",
    "    vec_Q = np.expand_dims(np.imag(complex_3d), axis=2) # batchsize, n, 1, d\n",
    "    return np.concatenate((vec_I, vec_Q), axis=2).reshape(batch_size, n_symbs, -1) # batchsize, n, 2d\n",
    "\n",
    "\n",
    "def get_in_mat(in_symbs, d):\n",
    "    \"\"\"\n",
    "    in_symbs: complex valued input symbs of (batchsize, cnxt_ln, 1)\n",
    "\n",
    "    \"\"\"\n",
    "   \n",
    "    vec_I = np.real(in_symbs)  # (batchsize, cnxt_ln, 1)\n",
    "    vec_Q = np.imag(in_symbs)  # (batchsize, cnxt_ln, 1)\n",
    "\n",
    "    M1 = np.expand_dims(np.concatenate((vec_I, -vec_Q), axis=-1), axis=-2)  # (batchsize, cnxt_ln, 1, 2)\n",
    "    M2 = np.expand_dims(np.concatenate((vec_Q, vec_I), axis=-1), axis=-2) # (batchsize, cnxt_ln, 1, 2)\n",
    "\n",
    "    stack_of_M = np.concatenate((M1, M2), axis=-2) # (batchsize, cnxt_ln, 2, 2)\n",
    "\n",
    "    batch_size, cnxt_ln, _, _ = stack_of_M.shape\n",
    "    \n",
    "    # Initialize an empty matrix of the required shape filled with zeros\n",
    "    M = np.zeros((batch_size, cnxt_ln * 2, cnxt_ln * 2))\n",
    "    \n",
    "    # Fill the diagonal blocks with the input matrices\n",
    "    for i in range(cnxt_ln):\n",
    "        M[:, i * 2: (i + 1) * 2, i * 2: (i + 1) * 2] = stack_of_M[:, i]\n",
    "    \n",
    "    out = np.kron(M, np.eye(d))\n",
    "    return out\n",
    "\n",
    "\n",
    "\n",
    "def get_likelihoods(curr_out, \n",
    "                    past_out_symbs, \n",
    "                    past_in_symbs, \n",
    "                    X, \n",
    "                    SNR_dB=-5, \n",
    "                    latent=5,\n",
    "                    d=4):\n",
    "    \"\"\"\n",
    "    past_out_symbs: complex valued past out symbols of size batchsize, k, d\n",
    "    past_in_symbs: complex valued past in symbols of size batchsize, k, 1\n",
    "    curr_out: complex valued curr in symbols of size batchsize, d\n",
    "    X: in symbol set (QPSK)\n",
    "    SNR_dB: 1/sigma2 in dB\n",
    "    latent: underlying context theta in {0, 1}\n",
    "    n_pts: n_pts for numerical integral eval when latent=0\n",
    "    \"\"\"\n",
    "    sigma2 = 10**(-SNR_dB/10)\n",
    "    likelihood_mass = np.zeros((len(curr_out), len(X)))\n",
    "    batch_size = len(curr_out)\n",
    "    # print('past_in_symb = ', past_in_symbs.shape)\n",
    "    # print('latent = ', latent)\n",
    "\n",
    "    any_past = past_in_symbs.any()\n",
    "    # print('past? ', any_past)\n",
    "      \n",
    "    sigma2 = 10**(-SNR_dB/10)\n",
    "    channel_power = 1/2\n",
    "    # corr_h = np.sqrt(channel_power) * np.eye(2*d)\n",
    "    # corr_h = np.tile(corr_h, (batchsize, 1, 1))\n",
    "\n",
    "    curr_out = np.expand_dims(curr_out, axis=1)\n",
    "    if any_past:\n",
    "        out_symbs = np.concatenate((past_out_symbs, curr_out), axis=1)\n",
    "    else:\n",
    "        out_symbs = curr_out\n",
    "\n",
    "    \n",
    "    max_cnxt_ln = len(out_symbs[0])\n",
    "    # convert to real-valued\n",
    "    out_symbs_real_mat = complex_to_real_mat(out_symbs)\n",
    "    out_symbs_real_vec = out_symbs_real_mat.reshape(len(out_symbs_real_mat), -1, 1)  # yk (batchsize, 2kd, 1)\n",
    "    out_symbs_real_vec_T = out_symbs_real_vec.swapaxes(-1, -2)\n",
    "\n",
    "    out_vec_dim = len(out_symbs_real_vec[0])\n",
    "    Rh, _, _ = get_hidden_process_cov(latent=latent, max_cnxt_ln=max_cnxt_ln, fc=2.6e9, Ts=1e-3)\n",
    "\n",
    "    for idx, x_real_vec in enumerate(X):\n",
    "        x = x_real_vec[0] + 1j* x_real_vec[1]\n",
    "        curr_in = np.tile(x, (batch_size, 1, 1))\n",
    "        if any_past:\n",
    "            in_symbs = np.concatenate((past_in_symbs, curr_in), axis=1)\n",
    "        else:\n",
    "            in_symbs = curr_in\n",
    "\n",
    "        in_symbs_real_mat = get_in_mat(in_symbs, d)  # (batchsize, 2kd, 2kd)  Xk\n",
    "        in_symbs_real_mat_T = np.swapaxes(in_symbs_real_mat, axis1=-1, axis2=-2) # (batchsize, 2kd, 2kd) Xk.T\n",
    "        eye_mat = np.eye(out_vec_dim).reshape(1,out_vec_dim,-1)\n",
    "\n",
    "        corr_out = channel_power * in_symbs_real_mat @ (np.kron(Rh, np.eye(2*d))) @ in_symbs_real_mat_T + sigma2*eye_mat\n",
    "        corr_out_inv = np.linalg.inv(corr_out)\n",
    "\n",
    "        likelihood_mass[:, idx] =  1/np.sqrt(np.abs(np.linalg.det(corr_out))) * np.exp(-1/2* (out_symbs_real_vec_T @ corr_out_inv @ out_symbs_real_vec).squeeze())\n",
    "    \n",
    "    return likelihood_mass\n",
    "\n",
    "\n",
    "def compute_h_MMSE(past_out_symbs,\n",
    "                   past_in_symbs, \n",
    "                    SNR_dB=-5,\n",
    "                    d=4,\n",
    "                    latents=(5,15,30),\n",
    "                    channel_power=1/2):\n",
    "    \n",
    "\n",
    "    sigma2 = 10**(-SNR_dB/10)\n",
    "\n",
    "    batch_size = len(past_out_symbs)\n",
    "\n",
    "    max_cnxt_ln = len(past_out_symbs[0])\n",
    "    # convert to real-valued\n",
    "    out_symbs_real_mat = complex_to_real_mat(past_out_symbs)\n",
    "    out_symbs_real_vec = out_symbs_real_mat.reshape(len(out_symbs_real_mat), -1, 1)  # yk (batchsize, 2kd, 1)\n",
    "    out_symbs_real_vec_T = out_symbs_real_vec.swapaxes(-1, -2)\n",
    "\n",
    "    out_vec_dim = len(out_symbs_real_vec[0])\n",
    "\n",
    "    filters = np.zeros((batch_size, 2*d, 2*d*max_cnxt_ln, len(latents)))\n",
    "    posteriors = np.zeros((batch_size, len(latents)))\n",
    "    \n",
    "\n",
    "    for i, latent in enumerate(latents):\n",
    "        \n",
    "        Rh, _, _ = get_hidden_process_cov(latent=latent, max_cnxt_ln=max_cnxt_ln+1, fc=2.6e9, Ts=1e-3)\n",
    "        Rh_past = Rh[:-1, :-1]*channel_power  # scale with channel power  (k,k)\n",
    "        Rh_curr_past = Rh[-1, :-1]*channel_power  # (k,)\n",
    "\n",
    "        in_symbs_real_mat = get_in_mat(past_in_symbs, d)  # (batchsize, 2kd, 2kd)  Xk\n",
    "        in_symbs_real_mat_T = np.swapaxes(in_symbs_real_mat, axis1=-1, axis2=-2) # (batchsize, 2kd, 2kd) Xk.T\n",
    "        eye_mat = np.eye(out_vec_dim).reshape(1,out_vec_dim,-1)\n",
    "\n",
    "        corr_out = in_symbs_real_mat @ (np.kron(Rh_past, np.eye(2*d))) @ in_symbs_real_mat_T + sigma2*eye_mat\n",
    "        corr_out_inv = np.linalg.inv(corr_out)\n",
    "\n",
    "        cross_corr = np.kron(Rh_curr_past, np.eye(2*d)) @ in_symbs_real_mat_T  # (batch_size, 2d, 2dk)\n",
    "\n",
    "        filters[:,:,:,i] = cross_corr @ corr_out_inv\n",
    "        posteriors[:,i] = 1/np.sqrt(np.abs(np.linalg.det(corr_out))) * np.exp(-1/2* (out_symbs_real_vec_T @ corr_out_inv @ out_symbs_real_vec).squeeze())\n",
    "\n",
    "\n",
    "    posteriors_expd = np.expand_dims(posteriors, axis=(1,2))\n",
    "\n",
    "    CU_filter = np.sum(filters * posteriors_expd, axis=-1) /  np.sum(posteriors_expd, axis=-1) # (batch_size, 2d, 2dk)\n",
    "\n",
    "    h_MMSE = CU_filter @ out_symbs_real_vec  # (batch_size, 2d, 1)\n",
    "\n",
    "    return h_MMSE.squeeze()  # (batch_size, 2d)\n",
    "\n",
    "\n",
    "\n",
    "\n",
    "def compute_h_LMMSE(past_out_symbs,\n",
    "                   past_in_symbs, \n",
    "                    SNR_dB=-5,\n",
    "                    d=4,\n",
    "                    latents=(5,15,30),\n",
    "                    channel_power=1/2):\n",
    "    \n",
    "\n",
    "    sigma2 = 10**(-SNR_dB/10)\n",
    "\n",
    "    max_cnxt_ln = len(past_out_symbs[0])\n",
    "    # convert to real-valued\n",
    "    out_symbs_real_mat = complex_to_real_mat(past_out_symbs)\n",
    "    out_symbs_real_vec = out_symbs_real_mat.reshape(len(out_symbs_real_mat), -1, 1)  # yk (batchsize, 2kd, 1)\n",
    "\n",
    "    out_vec_dim = len(out_symbs_real_vec[0])\n",
    "\n",
    "    Rh_all = np.zeros((len(latents), max_cnxt_ln+1, max_cnxt_ln+1))\n",
    "    \n",
    "\n",
    "    for i, latent in enumerate(latents):\n",
    "        Rh_all[i,:,:], _, _  = get_hidden_process_cov(latent=latent, max_cnxt_ln=max_cnxt_ln+1, fc=2.6e9, Ts=1e-3)\n",
    "        \n",
    "\n",
    "    Rh = np.mean(Rh_all, axis=0)\n",
    "    Rh_past = Rh[:-1, :-1]*channel_power  # scale with channel power  (k,k)\n",
    "    Rh_curr_past = Rh[-1, :-1]*channel_power  # (k,)\n",
    "\n",
    "    in_symbs_real_mat = get_in_mat(past_in_symbs, d)  # (batchsize, 2kd, 2kd)  Xk\n",
    "    in_symbs_real_mat_T = np.swapaxes(in_symbs_real_mat, axis1=-1, axis2=-2) # (batchsize, 2kd, 2kd) Xk.T\n",
    "    eye_mat = np.eye(out_vec_dim).reshape(1,out_vec_dim,-1)\n",
    "\n",
    "    corr_out = in_symbs_real_mat @ (np.kron(Rh_past, np.eye(2*d))) @ in_symbs_real_mat_T + sigma2*eye_mat\n",
    "    corr_out_inv = np.linalg.inv(corr_out)\n",
    "\n",
    "    cross_corr = np.kron(Rh_curr_past, np.eye(2*d)) @ in_symbs_real_mat_T  # (batch_size, 2d, 2dk)\n",
    "\n",
    "    LMMSE_filter = cross_corr @ corr_out_inv\n",
    "\n",
    "    h_LMMSE = LMMSE_filter @ out_symbs_real_vec  # (batch_size, 2d, 1)\n",
    "\n",
    "    return h_LMMSE.squeeze()  # (batch_size, 2d)\n",
    "\n",
    "\n",
    "def compute_xh_LMMSE(curr_out, \n",
    "                    past_out_symbs, \n",
    "                    past_in_symbs, \n",
    "                    X, \n",
    "                    SNR_dB=-5,\n",
    "                    d=4,\n",
    "                    latents=(5,15,30)):\n",
    "    \n",
    "    \"\"\"\n",
    "    curr_out: complex-valued vector of shape (batchsize, d)\n",
    "    \"\"\"\n",
    "    sigma2 = 10**(-SNR_dB/10)\n",
    "    batch_size = len(curr_out)\n",
    "\n",
    "    any_past = past_out_symbs.any()\n",
    "\n",
    "    if not any_past:  # if not pilots, best estimate of channel is all-zeros\n",
    "        h_est_real = np.zeros((batch_size, 2*d))\n",
    "    else:\n",
    "        h_est_real = compute_h_LMMSE(past_out_symbs,\n",
    "                    past_in_symbs,\n",
    "                        SNR_dB=SNR_dB,\n",
    "                        d=d,\n",
    "                        latents=latents,\n",
    "                        channel_power=1/2)\n",
    "    \n",
    "    hI_est, hQ_est = h_est_real[:,:d], h_est_real[:,d:]\n",
    "\n",
    "    h_est = hI_est + 1j* hQ_est  # (batchsize, d)\n",
    "\n",
    "    post_x = np.zeros((batch_size, len(X)))\n",
    "\n",
    "    for i, x_real in enumerate(X):\n",
    "        x = x_real[0] + 1j* x_real[1]\n",
    "        post_x[:,i] = np.exp(-1/2/sigma2 * np.sum(np.abs(curr_out-h_est*x)**2, axis=-1))\n",
    "\n",
    "    xh_MMSE_real_vec = post_x @ X / np.expand_dims(np.sum(post_x, axis=-1), axis=-1)\n",
    "\n",
    "    xh_MMSE = xh_MMSE_real_vec[:,0] + 1j* xh_MMSE_real_vec[:,1]\n",
    "\n",
    "    return xh_MMSE\n",
    "\n",
    "\n",
    "\n",
    "\n",
    "\n",
    "\n",
    "def compute_xh_MMSE(curr_out, \n",
    "                    past_out_symbs, \n",
    "                    past_in_symbs, \n",
    "                    X, \n",
    "                    SNR_dB=-5,\n",
    "                    d=4,\n",
    "                    latents=(5,15,30)):\n",
    "    \n",
    "    \"\"\"\n",
    "    curr_out: complex-valued vector of shape (batchsize, d)\n",
    "    \"\"\"\n",
    "    sigma2 = 10**(-SNR_dB/10)\n",
    "    batch_size = len(curr_out)\n",
    "\n",
    "    any_past = past_out_symbs.any()\n",
    "\n",
    "    if not any_past:  # if not pilots, best estimate of channel is all-zeros\n",
    "        h_est_real = np.zeros((batch_size, 2*d))\n",
    "    else:\n",
    "        h_est_real = compute_h_MMSE(past_out_symbs,\n",
    "                    past_in_symbs,\n",
    "                        SNR_dB=SNR_dB,\n",
    "                        d=d,\n",
    "                        latents=latents,\n",
    "                        channel_power=1/2)\n",
    "    \n",
    "    hI_est, hQ_est = h_est_real[:,:d], h_est_real[:,d:]\n",
    "\n",
    "    h_est = hI_est + 1j* hQ_est  # (batchsize, d)\n",
    "\n",
    "    post_x = np.zeros((batch_size, len(X)))\n",
    "\n",
    "    for i, x_real in enumerate(X):\n",
    "        x = x_real[0] + 1j* x_real[1]\n",
    "        post_x[:,i] = np.exp(-1/2/sigma2 * np.sum(np.abs(curr_out-h_est*x)**2, axis=-1))\n",
    "\n",
    "    xh_MMSE_real_vec = post_x @ X / np.expand_dims(np.sum(post_x, axis=-1), axis=-1)\n",
    "\n",
    "    xh_MMSE = xh_MMSE_real_vec[:,0] + 1j* xh_MMSE_real_vec[:,1]\n",
    "\n",
    "    return xh_MMSE\n",
    "\n",
    "\n",
    "\n",
    "def compute_x_MMSE(curr_out, \n",
    "                    past_out_symbs, \n",
    "                    past_in_symbs, \n",
    "                    X,\n",
    "                    true_latent=5, \n",
    "                    SNR_dB=-5,\n",
    "                    d=4,\n",
    "                    latents=(5,15,30)):\n",
    "    \n",
    "    batch_size, cardX, n_latents = len(curr_out), len(X), len(latents)\n",
    "    posteriors = np.zeros((batch_size, cardX, n_latents))\n",
    "    for i, latent in enumerate(latents):\n",
    "\n",
    "        posteriors[:, :, i] = get_likelihoods(curr_out, \n",
    "                    past_out_symbs, \n",
    "                    past_in_symbs, \n",
    "                    X, \n",
    "                    SNR_dB=SNR_dB, \n",
    "                    latent=latent,\n",
    "                    d=d)\n",
    "\n",
    "        if latent == true_latent:\n",
    "            CA_posterior = posteriors[:, :, i].copy()\n",
    "    \n",
    "    posteriors = np.average(posteriors, axis=-1)\n",
    "    CU_x_MMSE_real_vec = posteriors @ X / np.expand_dims(np.sum(posteriors, axis=-1), axis=1)\n",
    "    CU_x_MMSE = CU_x_MMSE_real_vec[:,0] + 1j* CU_x_MMSE_real_vec[:,1]\n",
    "\n",
    "    CA_x_MMSE_real_vec = CA_posterior @ X / np.expand_dims(np.sum(CA_posterior, axis=-1), axis=1)\n",
    "    CA_x_MMSE = CA_x_MMSE_real_vec[:,0] + 1j* CA_x_MMSE_real_vec[:,1]\n",
    "\n",
    "    return CU_x_MMSE, CA_x_MMSE\n",
    "\n",
    "\n",
    "# R, Lambda, U = get_hidden_process_cov(latent=5, max_cnxt_ln=15, fc=2.6e9, Ts=1e-3)\n",
    "\n",
    "# print('R = ', R)\n",
    "# print('Lam = ', Lambda)\n",
    "# print('U = ', U)\n",
    "\n",
    "X = np.array([[1,1],[1,-1],[-1,1],[-1,-1]])\n",
    "\n",
    "batch_size=10000\n",
    "max_cnxt_ln=12\n",
    "\n",
    "d=4\n",
    "SNR_dB=0\n",
    "\n",
    "latents = (5, 15, 30)\n",
    "\n",
    "fig, axs = plt.subplots(1, len(latents), figsize=(6*len(latents), 6), sharex=True)\n",
    "\n",
    "for i, true_latent in enumerate(latents):\n",
    "\n",
    "    x, y, h = gen_time_variant_process(X,\n",
    "                                latent=true_latent,\n",
    "                                max_cnxt_ln=max_cnxt_ln+1,\n",
    "                                batch_size=batch_size,\n",
    "                                d=d,\n",
    "                                SNR_dB=SNR_dB,\n",
    "                                channel_power=1/2)\n",
    "\n",
    "    CU_x_MSE = np.zeros(len(x[0]))\n",
    "    CA_x_MSE = np.zeros(len(x[0]))\n",
    "    CU_xh_MSE = np.zeros(len(x[0]))\n",
    "    CU_xh_Lin_MSE = np.zeros(len(x[0]))\n",
    "    for k in tqdm(range(max_cnxt_ln+1)):\n",
    "        curr_out = y[:,k,:]\n",
    "        curr_in = x[:,k,0]\n",
    "        past_out_symbs = y[:,:k,:]\n",
    "        past_in_symbs = x[:,:k,:]\n",
    "\n",
    "        CU_xh_MMSE = compute_xh_MMSE(curr_out, \n",
    "                                    past_out_symbs, \n",
    "                                    past_in_symbs, \n",
    "                                    X,\n",
    "                                    SNR_dB=SNR_dB,\n",
    "                                    d=d)\n",
    "        \n",
    "        CU_xh_MSE[k] = np.mean(np.abs(CU_xh_MMSE-curr_in)**2)\n",
    "\n",
    "        CU_x_MMSE, CA_x_MMSE = compute_x_MMSE(curr_out, \n",
    "                        past_out_symbs, \n",
    "                        past_in_symbs, \n",
    "                        X,\n",
    "                        true_latent=true_latent, \n",
    "                        SNR_dB=SNR_dB,\n",
    "                        d=d)\n",
    "        \n",
    "        CU_xh_LMMSE = compute_xh_LMMSE(curr_out, \n",
    "                                    past_out_symbs, \n",
    "                                    past_in_symbs, \n",
    "                                    X,\n",
    "                                    SNR_dB=SNR_dB,\n",
    "                                    d=d)\n",
    "        \n",
    "        CU_x_MSE[k] = np.mean(np.abs(CU_x_MMSE-curr_in)**2)\n",
    "        CA_x_MSE[k] = np.mean(np.abs(CA_x_MMSE-curr_in)**2)\n",
    "        CU_xh_Lin_MSE[k] = np.mean(np.abs(CU_xh_LMMSE-curr_in)**2)\n",
    "\n",
    "        print(f'# examples = {k}, CU_xh_MSE = {CU_xh_MSE[k]}')\n",
    "        print(f'# examples = {k}, CU_x_MSE = {CU_x_MSE[k]}, CA_x_MSE = {CA_x_MSE[k]}')\n",
    "        print(f'# examples = {k}, CU_xh_Lin_MSE = {CU_xh_Lin_MSE[k]}')\n",
    "\n",
    "    axs[i].plot(CU_x_MSE, label='CU-x-MSE', color='darkorange', marker='o')\n",
    "    axs[i].plot(CA_x_MSE, label='CA-x-MSE', color='k', marker='^')\n",
    "    axs[i].plot(CU_xh_MSE, label='CU-xh-MSE', color='steelblue', marker='v')\n",
    "    axs[i].plot(CU_xh_Lin_MSE, label='CU-xh-Lin-MSE', color='seagreen', marker='v')\n",
    "    axs[i].set_title(f'latent = {true_latent} SNR = {SNR_dB} dB')\n",
    "    axs[i].grid()\n",
    "\n",
    "for ax in axs:\n",
    "    ax.set_xlabel(\"# in-context examples\", fontsize=14)\n",
    "    ax.set_ylabel(\"mean squared error\", fontsize=14)\n",
    "    ax.tick_params(axis='both', which='major', labelsize=12)\n",
    "\n",
    "# Shared legend from the last plot\n",
    "lines, labels = axs[2].get_legend_handles_labels()\n",
    "fig.legend(lines, labels, loc='lower center',bbox_to_anchor=(0.52,-0.15), ncol=3, fontsize=14)\n",
    "plt.tight_layout(rect=[0, 0, 1, 0.95])\n",
    "plt.savefig('Figures/clean-code-scenario2-SNR0-channel-based-baselines.png', format='png', bbox_inches='tight')\n",
    "plt.show()\n",
    "    \n"
   ]
  },
  {
   "cell_type": "code",
   "execution_count": null,
   "metadata": {},
   "outputs": [],
   "source": [
    "\n",
    "\"\"\"\n",
    "K = 15\n",
    "n_samples = 10000\n",
    "SNR_DB = 0\n",
    "d = 4\n",
    "\n",
    "SNR = 10**(SNR_DB/10)\n",
    "sigma2 = 1/SNR\n",
    "\n",
    "v_list = [5, 15, 30]\n",
    "n_contexts = len(v_list)\n",
    "\n",
    "MSE = np.zeros((K, n_contexts))\n",
    "MSE_act = np.zeros((K, n_contexts))\n",
    "MSE_avg = np.zeros((K, n_contexts))\n",
    "MSE_MMSE = np.zeros((K, n_contexts))\n",
    "\n",
    "MSE_sym_MMSE = np.zeros((K, n_contexts))\n",
    "\n",
    "MSE_ch = np.zeros((K, n_contexts))\n",
    "MSE_ch_act = np.zeros((K, n_contexts))\n",
    "MSE_ch_avg = np.zeros((K, n_contexts))\n",
    "MSE_ch_MMSE = np.zeros((K, n_contexts))\n",
    "\n",
    "\n",
    "R_T_all = np.zeros((n_contexts, K+1, K+1))\n",
    "for nv, v in enumerate(v_list):\n",
    "    R_T_all[nv, :, :], _, _ = gen_ch_cov(v, nT=K+1)  # per channel real and imag considered seperately\n",
    "\n",
    "R_T_mean = 0.5*np.mean(R_T_all, axis=0)\n",
    "emp_cov = np.zeros((len(v_list), K+1, K+1))\n",
    "\n",
    "print(np.shape(R_T_mean))\n",
    "\n",
    "for nv, v in enumerate(v_list):\n",
    "\n",
    "    emp_cov[nv] = 0 \n",
    "    \n",
    "    for _ in tqdm(range(n_samples)):\n",
    "        X, Y, R_T, H = gen_data_time_varying(v = v, K=K+1, d=d, SNR_DB=SNR_DB)\n",
    "        H_2d = np.vstack((np.real(H), np.imag(H)))\n",
    "\n",
    "        # print(\"Y = \", Y)\n",
    "        # H_2d is a 2d x K matrix with independently generated rows, each row having emp cov close to R_T\n",
    "        # emp_cov[nv, :, :] += 1/2/d * H_2d.T@H_2d\n",
    "\n",
    "        # print(f\"Per path emp cov closeness (averaged over 2d) (v={v} m/s) = \", norm(1/2/d * H_2d.T@H_2d-R_T))\n",
    "\n",
    "        # print(\"Emp cov within the batch (average over 2d) = \", norm(R_T-emp_cov/2/d))\n",
    "        \n",
    "        for k in range(K):\n",
    "            XK = X[:, :k]\n",
    "            YK = Y[:k]\n",
    "            xk = X[:, k]\n",
    "            yk = Y[k]\n",
    "            y_act = np.array([np.real(yk), np.imag(yk)])\n",
    "            if k==0:\n",
    "                h_hat = np.zeros(2*d)\n",
    "                h_hat_act = np.zeros(2*d)\n",
    "                h_hat_avg = np.zeros(2*d)\n",
    "                h_hat_MMSE = np.zeros(2*d)\n",
    "            else: \n",
    "                X_vec = np.vstack((np.real(XK), np.imag(XK))).flatten(order=\"F\")\n",
    "                Y_mat = get_transmission_matrix(YK, d)\n",
    "                h_mean = np.zeros(2*d)\n",
    "                ch_cov = 1/2 * np.eye(2*d)\n",
    "                # h_hat = estimate_channel(Y_mat, X_vec, sigma2, ch_cov, h_mean)\n",
    "                # h_hat = estimate_time_varying_channel(XK, YK, sigma2, d, R_T=0.5*np.ones_like(R_T))\n",
    "                # h_hat_act = estimate_time_varying_channel(XK, YK, sigma2, d, R_T=R_T)\n",
    "                h_hat_MMSE = estimate_channel_MMSE(XK, YK, sigma2, d, R_T_all)\n",
    "                # h_hat_avg = estimate_time_varying_channel(XK, YK, sigma2, d, R_T=R_T_mean)\n",
    "\n",
    "            # error_ch = norm(H_2d[:, k]-h_hat)**2\n",
    "            # error_ch_act = norm(H_2d[:, k]-h_hat_act)**2\n",
    "            # error_ch_avg = norm(H_2d[:, k]-h_hat_avg)**2\n",
    "            error_ch_MMSE = norm(H_2d[:, k]-h_hat_MMSE)**2\n",
    "            # MSE_ch[k, nv] += error_ch\n",
    "            # MSE_ch_act[k, nv] += error_ch_act\n",
    "            # MSE_ch_avg[k, nv] += error_ch_avg\n",
    "            MSE_ch_MMSE[k, nv] += error_ch_MMSE\n",
    "            \n",
    "            x_pred_sym_MMSE = estimate_sym_MMSE(XK=YK, YK=XK, yk=xk, sigma2=sigma2, d=d, RT_all=R_T_all)\n",
    "            # y_pred = estimate_sym_from_channel(h_hat, xk, sigma2)\n",
    "            # y_pred_act = estimate_sym_from_channel(h_hat_act, xk, sigma2)\n",
    "            y_pred_MMSE = estimate_sym_from_channel(h_hat_MMSE, xk, sigma2)\n",
    "            # y_pred_avg = estimate_sym_from_channel(h_hat_avg, xk, sigma2)\n",
    "            # error = np.linalg.norm(y_act-y_pred)**2\n",
    "            # error_act = np.linalg.norm(y_act-y_pred_act)**2\n",
    "            # error_avg = np.linalg.norm(y_act-y_pred_avg)**2\n",
    "            error_MMSE = np.linalg.norm(y_act-y_pred_MMSE)**2\n",
    "            error_sym_MMSE = np.linalg.norm(y_act-x_pred_sym_MMSE)**2\n",
    "            # MSE[k, nv] += error\n",
    "            # MSE_act[k, nv] += error_act\n",
    "            # MSE_avg[k, nv] += error_avg\n",
    "            MSE_MMSE[k, nv] += error_MMSE\n",
    "            MSE_sym_MMSE[k, nv] += error_sym_MMSE\n",
    "                \n",
    "    # MSE[:, nv] /= n_samples\n",
    "    # MSE_act[:, nv] /= n_samples\n",
    "    # MSE_avg[:, nv] /= n_samples\n",
    "    MSE_MMSE[:, nv] /= n_samples\n",
    "    MSE_sym_MMSE[:, nv] /= n_samples\n",
    "\n",
    "    # MSE_ch[:, nv] /= n_samples\n",
    "    # MSE_ch_act[:, nv] /= n_samples\n",
    "    # MSE_ch_avg[:, nv] /= n_samples\n",
    "    MSE_ch_MMSE[:, nv] /= n_samples\n",
    "\n",
    "    emp_cov[nv, :, :]  /= n_samples\n",
    "\n",
    "    # print(f\"Emp cov closeness (averaged over 2dN) (v={v} m/s) = \", norm(emp_cov[nv, :, :]-R_T))\n",
    "\n",
    "    # plt.plot(np.arange(K), MSE[:, nv], label=f\"v={v} m/s assuming constant\")\n",
    "    # plt.plot(np.arange(K), MSE_act[:, nv], label=f\"v={v} m/s (exact corr)\")\n",
    "    # plt.plot(np.arange(K), MSE_avg[:, nv], label=f\"v={v} m/s (avg corr)\")\n",
    "\n",
    "    # plt.plot(np.arange(K), MSE_ch_act[:, nv], label=f\"v={v} m/s (exact corr)\")\n",
    "    # plt.plot(np.arange(K), MSE_ch_avg[:, nv], label=f\"v={v} m/s (avg corr)\")\n",
    "\n",
    "    # print(f\"For {v}: MMSE of channel = \\n {MSE_ch_MMSE}\")\n",
    "    # print(f\"For {v}: LMMSE channel with perfect corr = \\n {MSE_ch_act}\")\n",
    "\n",
    "\n",
    "colors = [\"r\", \"k\", \"teal\"]\n",
    "for nv, v in enumerate(v_list):\n",
    "    # plt.plot(np.arange(K), MSE_act[:, nv], color=colors[nv], linestyle=\"dotted\", marker=\"o\", label=\"Context Aware\")\n",
    "    # plt.plot(np.arange(K), MSE_avg[:, nv], color=colors[nv], linestyle=\"dashed\", label=\"Context Agnostic LMMSE\")\n",
    "    plt.plot(np.arange(K), MSE_MMSE[:, nv], color=colors[nv], marker=\"^\", label=\"MMSE channel\")\n",
    "    plt.plot(np.arange(K), MSE_sym_MMSE[:, nv], color=colors[nv], marker=\"s\", linestyle=\"--\", label=\"MMSE symbol\")\n",
    "    df = pd.DataFrame(MSE_sym_MMSE[:, nv])\n",
    "    df.to_csv(f\"C2_v{v}_MMSE_symbol_SNR0.csv\", index=False)\n",
    "\n",
    "plt.grid()\n",
    "plt.legend()\n",
    "plt.xlabel(\"Number of pilots (k)\")\n",
    "plt.title(f\"SNR = {SNR_DB} dB\")\n",
    "plt.ylabel(\"MSE of the estimated symbol\")\n",
    "\n",
    "\"\"\"\n",
    "\n",
    "\n",
    "\n"
   ]
  },
  {
   "cell_type": "code",
   "execution_count": 28,
   "metadata": {},
   "outputs": [
    {
     "name": "stdout",
     "output_type": "stream",
     "text": [
      "B =  (4, 3, 2)\n",
      "P =  (4, 2)\n",
      "Q =  (4, 1, 2)\n"
     ]
    },
    {
     "ename": "TypeError",
     "evalue": "1D weights expected when shapes of a and weights differ.",
     "output_type": "error",
     "traceback": [
      "\u001b[0;31m---------------------------------------------------------------------------\u001b[0m",
      "\u001b[0;31mTypeError\u001b[0m                                 Traceback (most recent call last)",
      "Cell \u001b[0;32mIn[28], line 21\u001b[0m\n\u001b[1;32m     17\u001b[0m \u001b[38;5;28mprint\u001b[39m(\u001b[38;5;124m'\u001b[39m\u001b[38;5;124mP = \u001b[39m\u001b[38;5;124m'\u001b[39m, P\u001b[38;5;241m.\u001b[39mshape)\n\u001b[1;32m     19\u001b[0m \u001b[38;5;28mprint\u001b[39m(\u001b[38;5;124m'\u001b[39m\u001b[38;5;124mQ = \u001b[39m\u001b[38;5;124m'\u001b[39m, Q\u001b[38;5;241m.\u001b[39mshape)\n\u001b[0;32m---> 21\u001b[0m C \u001b[38;5;241m=\u001b[39m \u001b[43mnp\u001b[49m\u001b[38;5;241;43m.\u001b[39;49m\u001b[43maverage\u001b[49m\u001b[43m(\u001b[49m\u001b[43mB\u001b[49m\u001b[43m,\u001b[49m\u001b[43m \u001b[49m\u001b[43mweights\u001b[49m\u001b[38;5;241;43m=\u001b[39;49m\u001b[43mQ\u001b[49m\u001b[43m,\u001b[49m\u001b[43m \u001b[49m\u001b[43maxis\u001b[49m\u001b[38;5;241;43m=\u001b[39;49m\u001b[38;5;241;43m-\u001b[39;49m\u001b[38;5;241;43m1\u001b[39;49m\u001b[43m)\u001b[49m\n\u001b[1;32m     23\u001b[0m \u001b[38;5;28mprint\u001b[39m(\u001b[38;5;124m'\u001b[39m\u001b[38;5;124mC = \u001b[39m\u001b[38;5;124m'\u001b[39m, C\u001b[38;5;241m.\u001b[39mshape)\n",
      "File \u001b[0;32m~/miniconda3/envs/MachineLearning/lib/python3.11/site-packages/numpy/lib/function_base.py:538\u001b[0m, in \u001b[0;36maverage\u001b[0;34m(a, axis, weights, returned, keepdims)\u001b[0m\n\u001b[1;32m    534\u001b[0m     \u001b[38;5;28;01mraise\u001b[39;00m \u001b[38;5;167;01mTypeError\u001b[39;00m(\n\u001b[1;32m    535\u001b[0m         \u001b[38;5;124m\"\u001b[39m\u001b[38;5;124mAxis must be specified when shapes of a and weights \u001b[39m\u001b[38;5;124m\"\u001b[39m\n\u001b[1;32m    536\u001b[0m         \u001b[38;5;124m\"\u001b[39m\u001b[38;5;124mdiffer.\u001b[39m\u001b[38;5;124m\"\u001b[39m)\n\u001b[1;32m    537\u001b[0m \u001b[38;5;28;01mif\u001b[39;00m wgt\u001b[38;5;241m.\u001b[39mndim \u001b[38;5;241m!=\u001b[39m \u001b[38;5;241m1\u001b[39m:\n\u001b[0;32m--> 538\u001b[0m     \u001b[38;5;28;01mraise\u001b[39;00m \u001b[38;5;167;01mTypeError\u001b[39;00m(\n\u001b[1;32m    539\u001b[0m         \u001b[38;5;124m\"\u001b[39m\u001b[38;5;124m1D weights expected when shapes of a and weights differ.\u001b[39m\u001b[38;5;124m\"\u001b[39m)\n\u001b[1;32m    540\u001b[0m \u001b[38;5;28;01mif\u001b[39;00m wgt\u001b[38;5;241m.\u001b[39mshape[\u001b[38;5;241m0\u001b[39m] \u001b[38;5;241m!=\u001b[39m a\u001b[38;5;241m.\u001b[39mshape[axis]:\n\u001b[1;32m    541\u001b[0m     \u001b[38;5;28;01mraise\u001b[39;00m \u001b[38;5;167;01mValueError\u001b[39;00m(\n\u001b[1;32m    542\u001b[0m         \u001b[38;5;124m\"\u001b[39m\u001b[38;5;124mLength of weights not compatible with specified axis.\u001b[39m\u001b[38;5;124m\"\u001b[39m)\n",
      "\u001b[0;31mTypeError\u001b[0m: 1D weights expected when shapes of a and weights differ."
     ]
    }
   ],
   "source": [
    "import numpy as np\n",
    "\n",
    "\n",
    "\n",
    "\n",
    "\n",
    "A = np.array([[[1,2, 3], [3,4, 5]], [[5,6, 7],[7,8, 9]], [[5,6, 7],[7,8, 9]], [[5,6, 7],[7,8, 9]]])\n",
    "\n",
    "B = A.transpose((0,2,1))\n",
    "\n",
    "P = np.array([[0.1, 0.9], [0.7, 0.3], [0.5, 0.5], [0.6, 0.1]])\n",
    "\n",
    "Q = np.expand_dims(P, axis=-2)\n",
    "\n",
    "print('B = ', B.shape)\n",
    "\n",
    "print('P = ', P.shape)\n",
    "\n",
    "print('Q = ', Q.shape)\n",
    "\n",
    "C = np.average(B, weights=Q, axis=-1)\n",
    "\n",
    "print('C = ', C.shape)\n",
    "\n",
    "\n",
    "\n",
    "\n",
    "\n",
    "\n"
   ]
  },
  {
   "cell_type": "code",
   "execution_count": null,
   "metadata": {},
   "outputs": [],
   "source": []
  }
 ],
 "metadata": {
  "kernelspec": {
   "display_name": "MachineLearning",
   "language": "python",
   "name": "python3"
  },
  "language_info": {
   "codemirror_mode": {
    "name": "ipython",
    "version": 3
   },
   "file_extension": ".py",
   "mimetype": "text/x-python",
   "name": "python",
   "nbconvert_exporter": "python",
   "pygments_lexer": "ipython3",
   "version": "3.11.5"
  }
 },
 "nbformat": 4,
 "nbformat_minor": 2
}
